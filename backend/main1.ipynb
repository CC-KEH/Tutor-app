{
 "cells": [
  {
   "cell_type": "code",
   "execution_count": 1,
   "metadata": {},
   "outputs": [
    {
     "data": {
      "text/plain": [
       "'c:\\\\vidit\\\\codes\\\\PROJECTS\\\\Tutor-app\\\\backend'"
      ]
     },
     "execution_count": 1,
     "metadata": {},
     "output_type": "execute_result"
    }
   ],
   "source": [
    "import os\n",
    "os.getcwd()"
   ]
  },
  {
   "cell_type": "code",
   "execution_count": 2,
   "metadata": {},
   "outputs": [],
   "source": [
    "os.chdir(\"../\")"
   ]
  },
  {
   "cell_type": "code",
   "execution_count": 3,
   "metadata": {},
   "outputs": [
    {
     "name": "stderr",
     "output_type": "stream",
     "text": [
      "c:\\Users\\vidit\\.conda\\envs\\tutor\\lib\\site-packages\\pinecone\\data\\index.py:1: TqdmWarning: IProgress not found. Please update jupyter and ipywidgets. See https://ipywidgets.readthedocs.io/en/stable/user_install.html\n",
      "  from tqdm.autonotebook import tqdm\n"
     ]
    }
   ],
   "source": [
    "from tutor.components.main_chain import Master\n",
    "import json\n",
    "\n",
    "master = Master(knowledge_base_path=\"backend/knowledge_store\")\n"
   ]
  },
  {
   "cell_type": "code",
   "execution_count": 4,
   "metadata": {},
   "outputs": [
    {
     "name": "stdout",
     "output_type": "stream",
     "text": [
      "Started parsing the file under job_id cac11eca-7480-45a3-a6c7-cc3fa67fb042\n",
      "Started parsing the file under job_id cac11eca-a416-4948-b13c-e58658e5ca99\n",
      "Successfully parsed the documents.\n",
      "upserting data to pinecone\n"
     ]
    },
    {
     "name": "stderr",
     "output_type": "stream",
     "text": [
      "Upserted vectors: 100%|██████████| 43/43 [00:13<00:00,  3.26it/s]"
     ]
    },
    {
     "name": "stdout",
     "output_type": "stream",
     "text": [
      "upserted data to pinecone\n",
      "Successfully stored to database\n",
      "Master has learnt the study materials.\n"
     ]
    },
    {
     "name": "stderr",
     "output_type": "stream",
     "text": [
      "\n"
     ]
    }
   ],
   "source": [
    "master.learn(index_name='tutor')"
   ]
  },
  {
   "cell_type": "code",
   "execution_count": 17,
   "metadata": {},
   "outputs": [],
   "source": [
    "with open(\"backend/src/tutor/templates/quiz_template.json\", 'r') as file:\n",
    "    json_data = json.load(file)\n",
    "\n",
    "\n",
    "response_template = json.dumps(json_data, indent=4) "
   ]
  },
  {
   "cell_type": "code",
   "execution_count": 9,
   "metadata": {},
   "outputs": [
    {
     "data": {
      "text/plain": [
       "'{\\n    \"1\": {\\n        \"no\": \"1\",\\n        \"mcq\": \"multiple choice questions\",\\n        \"options\": {\\n            \"a\": \"choice here\",\\n            \"b\": \"choice here\",\\n            \"c\": \"choice here\",\\n            \"d\": \"choice here\"\\n        },\\n        \"correct\": \"correct answer\"\\n    },\\n    \"2\": {\\n        \"no\": \"2\",\\n        \"mcq\": \"multiple choice questions\",\\n        \"options\": {\\n            \"a\": \"choice here\",\\n            \"b\": \"choice here\",\\n            \"c\": \"choice here\",\\n            \"d\": \"choice here\"\\n        },\\n        \"correct\": \"correct answer\"\\n    },\\n    \"3\": {\\n        \"no\": \"3\",\\n        \"mcq\": \"multiple choice questions\",\\n        \"options\": {\\n            \"a\": \"choice here\",\\n            \"b\": \"choice here\",\\n            \"c\": \"choice here\",\\n            \"d\": \"choice here\"\\n        },\\n        \"correct\": \"correct answer\"\\n    }\\n}'"
      ]
     },
     "execution_count": 9,
     "metadata": {},
     "output_type": "execute_result"
    }
   ],
   "source": [
    "response_template"
   ]
  },
  {
   "cell_type": "code",
   "execution_count": 6,
   "metadata": {},
   "outputs": [
    {
     "name": "stdout",
     "output_type": "stream",
     "text": [
      "Tools :  [<llama_index.core.tools.query_engine.QueryEngineTool object at 0x000001C26E803AF0>]\n",
      "> Running step dc26f644-d3fc-4849-82d0-e42d745abf5c. Step input: Give me some information about the transformers.\n",
      "\u001b[1;3;38;5;200mThought: The current language of the user is: english. I need to use a tool to help me answer the question.\n",
      "Action: Transformers\n",
      "Action Input: {'input': 'transformers'}\n",
      "\u001b[0m\u001b[1;3;34mObservation: Transformers are self-attention-based architectures that have become the model of choice in natural language processing (NLP). They are computationally efficient and scalable, and have been shown to achieve state-of-the-art results on a variety of NLP tasks. In computer vision, transformers have been used to replace certain components of convolutional networks, but have not yet been scaled effectively on modern hardware accelerators. However, recent work has shown that a standard Transformer can be applied directly to images, with the fewest possible modifications, and achieve excellent results on image classification tasks.\n",
      "\u001b[0m> Running step 961a4012-63b8-4ebe-b676-cafa95b0af08. Step input: None\n",
      "\u001b[1;3;38;5;200mThought: I can answer without using any more tools. I'll use the user's language to answer\n",
      "Answer: Transformers are self-attention-based architectures that have become the model of choice in natural language processing (NLP). They are computationally efficient and scalable, and have been shown to achieve state-of-the-art results on a variety of NLP tasks. In computer vision, transformers have been used to replace certain components of convolutional networks, but have not yet been scaled effectively on modern hardware accelerators. However, recent work has shown that a standard Transformer can be applied directly to images, with the fewest possible modifications, and achieve excellent results on image classification tasks.\n",
      "\u001b[0m"
     ]
    }
   ],
   "source": [
    "# json_string = {\n",
    "#             \"number\": 10,\n",
    "#             \"subject\": \"Maths\",\n",
    "#             \"tone\": \"easy\",\n",
    "#             \"response_template\": response_template\n",
    "#         }\n",
    "# json_str = json.dumps(json_string)\n",
    "\n",
    "prompt = \"Give me some information about the transformers.\"\n",
    "master.generate_mcq(prompt)"
   ]
  },
  {
   "cell_type": "code",
   "execution_count": null,
   "metadata": {},
   "outputs": [],
   "source": []
  }
 ],
 "metadata": {
  "kernelspec": {
   "display_name": "tutor",
   "language": "python",
   "name": "python3"
  },
  "language_info": {
   "codemirror_mode": {
    "name": "ipython",
    "version": 3
   },
   "file_extension": ".py",
   "mimetype": "text/x-python",
   "name": "python",
   "nbconvert_exporter": "python",
   "pygments_lexer": "ipython3",
   "version": "3.10.14"
  }
 },
 "nbformat": 4,
 "nbformat_minor": 2
}
