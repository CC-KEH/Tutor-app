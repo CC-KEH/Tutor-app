{
 "cells": [
  {
   "cell_type": "code",
   "execution_count": 2,
   "metadata": {},
   "outputs": [
    {
     "data": {
      "text/plain": [
       "'c:\\\\vidit\\\\codes\\\\PROJECTS\\\\Tutor-app\\\\backend'"
      ]
     },
     "execution_count": 2,
     "metadata": {},
     "output_type": "execute_result"
    }
   ],
   "source": [
    "import os\n",
    "os.getcwd()"
   ]
  },
  {
   "cell_type": "code",
   "execution_count": 3,
   "metadata": {},
   "outputs": [],
   "source": [
    "os.chdir(\"../\")"
   ]
  },
  {
   "cell_type": "code",
   "execution_count": 4,
   "metadata": {},
   "outputs": [
    {
     "name": "stderr",
     "output_type": "stream",
     "text": [
      "c:\\Users\\vidit\\.conda\\envs\\tutor\\lib\\site-packages\\pinecone\\data\\index.py:1: TqdmWarning: IProgress not found. Please update jupyter and ipywidgets. See https://ipywidgets.readthedocs.io/en/stable/user_install.html\n",
      "  from tqdm.autonotebook import tqdm\n"
     ]
    }
   ],
   "source": [
    "from tutor.components.main_chain import Master\n",
    "import json\n",
    "\n",
    "master = Master(knowledge_base_path=\"backend/knowledge_store\")\n"
   ]
  },
  {
   "cell_type": "code",
   "execution_count": 5,
   "metadata": {},
   "outputs": [
    {
     "name": "stdout",
     "output_type": "stream",
     "text": [
      "Started parsing the file under job_id cac11eca-0116-4695-9f84-17a0b0c234c3\n",
      "Started parsing the file under job_id cac11eca-1a54-4a09-b4b3-f81fac89dde6\n",
      "Successfully parsed the documents.\n",
      "upserting data to pinecone\n"
     ]
    },
    {
     "name": "stderr",
     "output_type": "stream",
     "text": [
      "Upserted vectors: 100%|██████████| 43/43 [00:12<00:00,  3.41it/s]"
     ]
    },
    {
     "name": "stdout",
     "output_type": "stream",
     "text": [
      "upserted data to pinecone\n",
      "Successfully stored to database\n",
      "Master has learnt the study materials.\n"
     ]
    },
    {
     "name": "stderr",
     "output_type": "stream",
     "text": [
      "\n"
     ]
    }
   ],
   "source": [
    "master.learn(index_name='tutor')"
   ]
  },
  {
   "cell_type": "code",
   "execution_count": 17,
   "metadata": {},
   "outputs": [],
   "source": [
    "with open(\"backend/src/tutor/templates/quiz_template.json\", 'r') as file:\n",
    "    json_data = json.load(file)\n",
    "\n",
    "\n",
    "response_template = json.dumps(json_data, indent=4) "
   ]
  },
  {
   "cell_type": "code",
   "execution_count": 9,
   "metadata": {},
   "outputs": [
    {
     "data": {
      "text/plain": [
       "'{\\n    \"1\": {\\n        \"no\": \"1\",\\n        \"mcq\": \"multiple choice questions\",\\n        \"options\": {\\n            \"a\": \"choice here\",\\n            \"b\": \"choice here\",\\n            \"c\": \"choice here\",\\n            \"d\": \"choice here\"\\n        },\\n        \"correct\": \"correct answer\"\\n    },\\n    \"2\": {\\n        \"no\": \"2\",\\n        \"mcq\": \"multiple choice questions\",\\n        \"options\": {\\n            \"a\": \"choice here\",\\n            \"b\": \"choice here\",\\n            \"c\": \"choice here\",\\n            \"d\": \"choice here\"\\n        },\\n        \"correct\": \"correct answer\"\\n    },\\n    \"3\": {\\n        \"no\": \"3\",\\n        \"mcq\": \"multiple choice questions\",\\n        \"options\": {\\n            \"a\": \"choice here\",\\n            \"b\": \"choice here\",\\n            \"c\": \"choice here\",\\n            \"d\": \"choice here\"\\n        },\\n        \"correct\": \"correct answer\"\\n    }\\n}'"
      ]
     },
     "execution_count": 9,
     "metadata": {},
     "output_type": "execute_result"
    }
   ],
   "source": [
    "response_template"
   ]
  },
  {
   "cell_type": "code",
   "execution_count": 10,
   "metadata": {},
   "outputs": [
    {
     "name": "stdout",
     "output_type": "stream",
     "text": [
      "Tools :  [<llama_index.core.tools.query_engine.QueryEngineTool object at 0x000001757B0702E0>]\n",
      "> Running step 1d30da85-0fe1-4657-a485-ea4a1e6d1b0a. Step input: tell me something about the datasets used\n",
      "\u001b[1;3;38;5;200mThought: The current language of the user is: english. I need to use a tool to help me answer the question.\n",
      "Action: Transformers\n",
      "Action Input: {'input': 'tell me something about the datasets used'}\n",
      "\u001b[0m\u001b[1;3;34mObservation: The context does not mention anything about the datasets used, so I cannot answer this question from the provided context.\n",
      "\u001b[0m> Running step ae4969de-cf29-4ace-bec4-97fa17bbcb7f. Step input: None\n",
      "\u001b[1;3;38;5;200mThought: I cannot answer the question with the provided tools.\n",
      "Answer: I apologize, but the provided context does not mention anything about the datasets used, so I cannot answer this question.\n",
      "\u001b[0m"
     ]
    }
   ],
   "source": [
    "# json_string = {\n",
    "#             \"number\": 10,\n",
    "#             \"subject\": \"Maths\",\n",
    "#             \"tone\": \"easy\",\n",
    "#             \"response_template\": response_template\n",
    "#         }\n",
    "# json_str = json.dumps(json_string)\n",
    "\n",
    "prompt = \"tell me something about the datasets used\"\n",
    "master.generate_mcq(prompt)"
   ]
  },
  {
   "cell_type": "code",
   "execution_count": null,
   "metadata": {},
   "outputs": [],
   "source": []
  }
 ],
 "metadata": {
  "kernelspec": {
   "display_name": "tutor",
   "language": "python",
   "name": "python3"
  },
  "language_info": {
   "codemirror_mode": {
    "name": "ipython",
    "version": 3
   },
   "file_extension": ".py",
   "mimetype": "text/x-python",
   "name": "python",
   "nbconvert_exporter": "python",
   "pygments_lexer": "ipython3",
   "version": "3.10.14"
  }
 },
 "nbformat": 4,
 "nbformat_minor": 2
}
