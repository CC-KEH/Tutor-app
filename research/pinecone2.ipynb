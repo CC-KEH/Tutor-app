{
 "cells": [
  {
   "cell_type": "code",
   "execution_count": 54,
   "metadata": {},
   "outputs": [
    {
     "data": {
      "text/plain": [
       "{'dimension': 1024,\n",
       " 'index_fullness': 0.0,\n",
       " 'namespaces': {},\n",
       " 'total_vector_count': 0}"
      ]
     },
     "execution_count": 54,
     "metadata": {},
     "output_type": "execute_result"
    }
   ],
   "source": [
    "from llama_parse import LlamaParse\n",
    "from llama_index.core import VectorStoreIndex, SimpleDirectoryReader, PromptTemplate\n",
    "from llama_index.core.embeddings import resolve_embed_model\n",
    "from llama_index.core.tools import QueryEngineTool, ToolMetadata\n",
    "from llama_index.core.agent import ReActAgent\n",
    "from pydantic import BaseModel\n",
    "from llama_index.core.output_parsers import PydanticOutputParser\n",
    "from llama_index.core.query_pipeline import QueryPipeline\n",
    "from llama_index.core.embeddings import resolve_embed_model\n",
    "from dotenv import load_dotenv\n",
    "import os\n",
    "import ast\n",
    "from pinecone import Pinecone\n",
    "import dotenv \n",
    "import os\n",
    "import nest_asyncio\n",
    "import dotenv\n",
    "import pandas as pd\n",
    "# from utils.parsers import Parser\n",
    "\n",
    "from pinecone import Pinecone, ServerlessSpec\n",
    "from llama_index.core import VectorStoreIndex, SimpleDirectoryReader\n",
    "from llama_index.vector_stores.pinecone import PineconeVectorStore\n",
    "from llama_index.core import StorageContext\n",
    "from IPython.display import Markdown, display\n",
    "from llama_parse import LlamaParse\n",
    "\n",
    "api_key = os.environ.get(\"PINECONE_API_KEY\")\n",
    "\n",
    "pc = Pinecone(api_key=api_key)\n",
    "\n",
    "index = pc.Index(\"tutor\")\n",
    "index.describe_index_stats()\n",
    "\n",
    "\n"
   ]
  },
  {
   "cell_type": "code",
   "execution_count": 37,
   "metadata": {},
   "outputs": [],
   "source": [
    "# index.delete(delete_all=True, namespace=\"test\")"
   ]
  },
  {
   "cell_type": "code",
   "execution_count": 11,
   "metadata": {},
   "outputs": [],
   "source": [
    "os.chdir('../')"
   ]
  },
  {
   "cell_type": "code",
   "execution_count": 14,
   "metadata": {},
   "outputs": [],
   "source": [
    "import nest_asyncio; nest_asyncio.apply()"
   ]
  },
  {
   "cell_type": "code",
   "execution_count": 18,
   "metadata": {},
   "outputs": [],
   "source": [
    "# from sentence_transformers import SentenceTransformer\n",
    "\n",
    "# encoder = SentenceTransformer(\"all-mpnet-base-v2\")"
   ]
  },
  {
   "cell_type": "code",
   "execution_count": 55,
   "metadata": {},
   "outputs": [
    {
     "name": "stdout",
     "output_type": "stream",
     "text": [
      "Started parsing the file under job_id cac11eca-248d-4b38-a54e-d50f01f1ab0f\n",
      "Started parsing the file under job_id cac11eca-0977-439c-916b-0dcd18471a48\n"
     ]
    }
   ],
   "source": [
    "llama_api_key = os.getenv(\"LLAMA_API_KEY\")\n",
    "\n",
    "vector_store = PineconeVectorStore(pinecone_index=index,namespace=\"test\")\n",
    "storage_context = StorageContext.from_defaults(vector_store=vector_store)\n",
    "parser = LlamaParse(api_key=llama_api_key, result_type=\"markdown\") \n",
    "file_extractor = {\".pdf\": parser,\".csv\":parser,\".docx\":parser,\".txt\":parser}\n",
    "documents = SimpleDirectoryReader(\"./artifacts/csvs\",file_extractor=file_extractor).load_data()  \n",
    "\n"
   ]
  },
  {
   "cell_type": "code",
   "execution_count": 56,
   "metadata": {},
   "outputs": [],
   "source": [
    "embed_model = resolve_embed_model(\"local:BAAI/bge-m3\")"
   ]
  },
  {
   "cell_type": "code",
   "execution_count": 57,
   "metadata": {},
   "outputs": [
    {
     "data": {
      "text/plain": [
       "[Document(id_='a7245395-723c-4152-b065-1b3f12061421', embedding=None, metadata={'file_path': 'c:\\\\vidit\\\\codes\\\\PROJECTS\\\\Tutor-app\\\\artifacts\\\\csvs\\\\movies.csv', 'file_name': 'movies.csv', 'file_type': 'text/csv', 'file_size': 891, 'creation_date': '2024-07-06', 'last_modified_date': '2024-06-12'}, excluded_embed_metadata_keys=['file_name', 'file_type', 'file_size', 'creation_date', 'last_modified_date', 'last_accessed_date'], excluded_llm_metadata_keys=['file_name', 'file_type', 'file_size', 'creation_date', 'last_modified_date', 'last_accessed_date'], relationships={}, text='|movie_id|title                                      |industry |release_year|imdb_rating|studio            |language_id|budget       |revenue      |unit         |currency     |\\n|--------|-------------------------------------------|---------|------------|-----------|------------------|-----------|-------------|-------------|-------------|-------------|\\n|101     |K.G.F: Chapter 2                           |Bollywood|2022        |8.4        |Hombale Films     |3          |1            |12.5         |Billions     |INR          |\\n|102     |Doctor Strange in the Multiverse of Madness|Hollywood|2022        |7          |Marvel Studios    |5          |200          |954.8        |Millions     |USD          |\\n|103     |Thor: The Dark World                       |Hollywood|2013        |6.8        |Marvel Studios    |5          |165          |644.8        |Millions     |USD          |\\n|104     |Thor: Ragnarok                             |Hollywood|2017        |7.9        |Marvel Studios    |5          |180          |854          |Millions     |USD          |\\n|105     |Thor: Love and Thunder                     |Hollywood|2022        |6.8        |Marvel Studios    |5          |250          |670          |Millions     |USD          |\\n|106     |Sholay                                     |Bollywood|1975        |8.1        |United Producers  |1          |Not Available|Not Available|Not Available|Not Available|\\n|107     |Dilwale Dulhania Le Jayenge                |Bollywood|1995        |8          |Yash Raj Films    |1          |400          |2000         |Millions     |INR          |\\n|108     |3 Idiots                                   |Bollywood|2009        |8.4        |Vinod Chopra Films|1          |550          |4000         |Millions     |INR          |\\n|109     |Kabhi Khushi Kabhie Gham                   |Bollywood|2001        |7.4        |Dharma Productions|1          |390          |1360         |Millions     |INR          |\\n', mimetype='text/plain', start_char_idx=None, end_char_idx=None, text_template='{metadata_str}\\n\\n{content}', metadata_template='{key}: {value}', metadata_seperator='\\n'),\n",
       " Document(id_='e8299bb8-4ffe-48a8-88ab-94e60062b223', embedding=None, metadata={'file_path': 'c:\\\\vidit\\\\codes\\\\PROJECTS\\\\Tutor-app\\\\artifacts\\\\csvs\\\\sample_text.csv', 'file_name': 'sample_text.csv', 'file_type': 'text/csv', 'file_size': 525, 'creation_date': '2024-07-06', 'last_modified_date': '2024-06-12'}, excluded_embed_metadata_keys=['file_name', 'file_type', 'file_size', 'creation_date', 'last_modified_date', 'last_accessed_date'], excluded_llm_metadata_keys=['file_name', 'file_type', 'file_size', 'creation_date', 'last_modified_date', 'last_accessed_date'], relationships={}, text='|text                                                                               |category|\\n|-----------------------------------------------------------------------------------|--------|\\n|Meditation and yoga can improve mental health                                      |Health  |\\n|Fruits, whole grains and vegetables helps control blood pressure                   |Health  |\\n|These are the latest fashion trends for this week                                  |Fashion |\\n|Vibrant color jeans for male are becoming a trend                                  |Fashion |\\n|The concert starts at 7 PM tonight                                                 |Event   |\\n|Navaratri dandiya program at Expo center in Mumbai this october                    |Event   |\\n|Exciting vacation destinations for your next trip                                  |Travel  |\\n|Maldives and Srilanka are gaining popularity in terms of low budget vacation places|Travel  |\\n', mimetype='text/plain', start_char_idx=None, end_char_idx=None, text_template='{metadata_str}\\n\\n{content}', metadata_template='{key}: {value}', metadata_seperator='\\n')]"
      ]
     },
     "execution_count": 57,
     "metadata": {},
     "output_type": "execute_result"
    }
   ],
   "source": [
    "documents"
   ]
  },
  {
   "cell_type": "code",
   "execution_count": 58,
   "metadata": {},
   "outputs": [
    {
     "name": "stderr",
     "output_type": "stream",
     "text": [
      "Upserted vectors: 100%|██████████| 2/2 [00:01<00:00,  1.27it/s]\n"
     ]
    }
   ],
   "source": [
    "index = VectorStoreIndex.from_documents(\n",
    "        documents, \n",
    "        storage_context=storage_context,\n",
    "        embed_model=embed_model,\n",
    "    )"
   ]
  },
  {
   "cell_type": "code",
   "execution_count": null,
   "metadata": {},
   "outputs": [],
   "source": []
  }
 ],
 "metadata": {
  "kernelspec": {
   "display_name": "tutor",
   "language": "python",
   "name": "python3"
  },
  "language_info": {
   "codemirror_mode": {
    "name": "ipython",
    "version": 3
   },
   "file_extension": ".py",
   "mimetype": "text/x-python",
   "name": "python",
   "nbconvert_exporter": "python",
   "pygments_lexer": "ipython3",
   "version": "3.10.14"
  }
 },
 "nbformat": 4,
 "nbformat_minor": 2
}
